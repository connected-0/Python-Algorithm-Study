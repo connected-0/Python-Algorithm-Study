{
 "cells": [
  {
   "cell_type": "code",
   "execution_count": 7,
   "metadata": {},
   "outputs": [
    {
     "name": "stdout",
     "output_type": "stream",
     "text": [
      "['a', 'i', 'f', 'f', 'e', 'l'] ['l', 'e', 'f', 'f', 'i', 'a']\n",
      "회문이 아닙니다.\n"
     ]
    }
   ],
   "source": [
    "s=input(\"문장을 입력해주세요 : \").lower()\n",
    "s_list = list(s)\n",
    "s_reverse = list(reversed(s_list))\n",
    "print(s_list, s_reverse)\n",
    "if s_list == s_reverse:\n",
    "    print(\"회문 입니다.\")\n",
    "else:\n",
    "    print(\"회문이 아닙니다.\")"
   ]
  },
  {
   "cell_type": "code",
   "execution_count": 8,
   "metadata": {},
   "outputs": [
    {
     "name": "stdout",
     "output_type": "stream",
     "text": [
      "['a', 'b', 'b', 'a'] ['a', 'b', 'b', 'a']\n",
      "회문 입니다.\n"
     ]
    }
   ],
   "source": [
    "s=input(\"문장을 입력해주세요 : \").lower()\n",
    "s_list = list(s)\n",
    "s_reverse = list(reversed(s_list))\n",
    "print(s_list, s_reverse)\n",
    "if s_list == s_reverse:\n",
    "    print(\"회문 입니다.\")\n",
    "else:\n",
    "    print(\"회문이 아닙니다.\")"
   ]
  },
  {
   "cell_type": "code",
   "execution_count": null,
   "metadata": {},
   "outputs": [],
   "source": []
  }
 ],
 "metadata": {
  "kernelspec": {
   "display_name": "Python 3",
   "language": "python",
   "name": "python3"
  },
  "language_info": {
   "codemirror_mode": {
    "name": "ipython",
    "version": 3
   },
   "file_extension": ".py",
   "mimetype": "text/x-python",
   "name": "python",
   "nbconvert_exporter": "python",
   "pygments_lexer": "ipython3",
   "version": "3.11.5"
  }
 },
 "nbformat": 4,
 "nbformat_minor": 2
}
